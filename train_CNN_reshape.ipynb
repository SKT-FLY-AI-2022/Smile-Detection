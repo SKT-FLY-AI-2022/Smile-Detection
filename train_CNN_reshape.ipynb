{
 "cells": [
  {
   "cell_type": "code",
   "execution_count": 1,
   "metadata": {},
   "outputs": [],
   "source": [
    "from sklearn.preprocessing import LabelEncoder\n",
    "from sklearn.model_selection import train_test_split\n",
    "from sklearn.metrics import classification_report\n",
    "from tensorflow.keras.preprocessing.image import img_to_array\n",
    "from tensorflow.keras.utils import to_categorical\n",
    "from tensorflow.keras.layers import Dense, Conv2D, MaxPooling2D, Flatten, BatchNormalization, Dropout\n",
    "from tensorflow.keras.callbacks import EarlyStopping, ModelCheckpoint\n",
    "from tensorflow import keras\n",
    "\n",
    "from tensorflow.keras.models import Sequential, load_model\n",
    "from pipeline.nn.conv import LeNet\n",
    "from imutils import paths\n",
    "import matplotlib.pyplot as plt\n",
    "import numpy as np\n",
    "import argparse\n",
    "import imutils\n",
    "import cv2\n",
    "import os"
   ]
  },
  {
   "cell_type": "code",
   "execution_count": 2,
   "metadata": {},
   "outputs": [],
   "source": [
    "# initialize the list of data and labels\n",
    "data = []\n",
    "labels = []"
   ]
  },
  {
   "cell_type": "code",
   "execution_count": 3,
   "metadata": {},
   "outputs": [],
   "source": [
    "#loop over the input images\n",
    "# imutils.paths.list_images : grab the image paths and randomly shuffle them\n",
    "for imagePath in sorted(list(paths.list_images('datasetCNN'))):\n",
    "    # print(imagePath)\n",
    "    # load the image, pre-process it, and store it in the data list\n",
    "    image = cv2.imread(imagePath)\n",
    "    image = cv2.cvtColor(image, cv2.COLOR_BGR2GRAY)\n",
    "    image = imutils.resize(image, width = 28)\n",
    "    image = img_to_array(image)\n",
    "    data.append(image)\n",
    "\n",
    "    # extract the class label from the image path and update the label list : negative, postive\n",
    "    label = imagePath.split(os.path.sep)[-2]\n",
    "    # print(label)\n",
    "\n",
    "    label = 1 if label == \"positives\" else 0\n",
    "    labels.append(label)\n",
    "# print(labels)"
   ]
  },
  {
   "cell_type": "code",
   "execution_count": 13,
   "metadata": {},
   "outputs": [
    {
     "name": "stdout",
     "output_type": "stream",
     "text": [
      "(13166,) (13166, 28, 28, 1)\n"
     ]
    }
   ],
   "source": [
    "# scale the raw pixel intensities to the range [0, 1]\n",
    "data = np.array(data, dtype = \"float\") / 255.0\n",
    "labels = np.array(labels)\n",
    "print(labels.shape, data.shape)"
   ]
  },
  {
   "cell_type": "code",
   "execution_count": 5,
   "metadata": {},
   "outputs": [
    {
     "name": "stdout",
     "output_type": "stream",
     "text": [
      "(10532, 28, 28, 1)\n",
      "(10532,)\n"
     ]
    }
   ],
   "source": [
    "# partition the data into training and testing splits using 80% of the data\n",
    "# for training and remaining 20% for testing\n",
    "(trainX, testX, trainY, testY) = train_test_split(data, labels,\n",
    "    test_size = 0.20, stratify = labels, random_state = 42)\n",
    "\n",
    "print(trainX.shape)\n",
    "print(trainY.shape)"
   ]
  },
  {
   "cell_type": "code",
   "execution_count": 6,
   "metadata": {},
   "outputs": [
    {
     "name": "stdout",
     "output_type": "stream",
     "text": [
      "(10532, 2)\n",
      "[[1. 0.]\n",
      " [1. 0.]\n",
      " [1. 0.]\n",
      " ...\n",
      " [0. 1.]\n",
      " [0. 1.]\n",
      " [0. 1.]]\n"
     ]
    }
   ],
   "source": [
    "num_classes = 2\n",
    "\n",
    "\n",
    "trainY = to_categorical(trainY, num_classes)\n",
    "testY = to_categorical(testY, num_classes)\n",
    "print(trainY.shape)\n",
    "print(testY)\n",
    "\n",
    "# trainY = trainY.reshape"
   ]
  },
  {
   "cell_type": "code",
   "execution_count": 7,
   "metadata": {},
   "outputs": [
    {
     "name": "stdout",
     "output_type": "stream",
     "text": [
      "(10532, 28, 28, 1) (2634, 28, 28, 1)\n",
      "(10532, 2)\n",
      "(2634, 2)\n"
     ]
    }
   ],
   "source": [
    "print(trainX.shape, testX.shape)\n",
    "print(trainY.shape)\n",
    "print(testY.shape)"
   ]
  },
  {
   "cell_type": "code",
   "execution_count": 8,
   "metadata": {},
   "outputs": [
    {
     "name": "stdout",
     "output_type": "stream",
     "text": [
      "Model: \"sequential\"\n",
      "_________________________________________________________________\n",
      " Layer (type)                Output Shape              Param #   \n",
      "=================================================================\n",
      " conv2d (Conv2D)             (None, 28, 28, 20)        520       \n",
      "                                                                 \n",
      " batch_normalization (BatchN  (None, 28, 28, 20)       80        \n",
      " ormalization)                                                   \n",
      "                                                                 \n",
      " max_pooling2d (MaxPooling2D  (None, 14, 14, 20)       0         \n",
      " )                                                               \n",
      "                                                                 \n",
      " dropout (Dropout)           (None, 14, 14, 20)        0         \n",
      "                                                                 \n",
      " conv2d_1 (Conv2D)           (None, 14, 14, 50)        25050     \n",
      "                                                                 \n",
      " batch_normalization_1 (Batc  (None, 14, 14, 50)       200       \n",
      " hNormalization)                                                 \n",
      "                                                                 \n",
      " max_pooling2d_1 (MaxPooling  (None, 7, 7, 50)         0         \n",
      " 2D)                                                             \n",
      "                                                                 \n",
      " dropout_1 (Dropout)         (None, 7, 7, 50)          0         \n",
      "                                                                 \n",
      " flatten (Flatten)           (None, 2450)              0         \n",
      "                                                                 \n",
      " dense (Dense)               (None, 500)               1225500   \n",
      "                                                                 \n",
      " dense_1 (Dense)             (None, 2)                 1002      \n",
      "                                                                 \n",
      "=================================================================\n",
      "Total params: 1,252,352\n",
      "Trainable params: 1,252,212\n",
      "Non-trainable params: 140\n",
      "_________________________________________________________________\n"
     ]
    },
    {
     "name": "stderr",
     "output_type": "stream",
     "text": [
      "2022-06-29 20:11:30.995408: I tensorflow/core/platform/cpu_feature_guard.cc:151] This TensorFlow binary is optimized with oneAPI Deep Neural Network Library (oneDNN) to use the following CPU instructions in performance-critical operations:  AVX2 FMA\n",
      "To enable them in other operations, rebuild TensorFlow with the appropriate compiler flags.\n"
     ]
    }
   ],
   "source": [
    "model = Sequential()\n",
    "model.add(Conv2D(20, (5, 5), padding = 'same', activation='relu',\n",
    "    input_shape=(28, 28, 1)))\n",
    "model.add(BatchNormalization())  \n",
    "model.add(MaxPooling2D(pool_size = (2, 2), strides = (2, 2)))\n",
    "model.add(Dropout(0.3))  \n",
    "\n",
    "# second set of CONV => RELU => POOL layers\n",
    "model.add(Conv2D(50, (5, 5), padding = 'same', activation='relu'))\n",
    "model.add(BatchNormalization())  \n",
    "model.add(MaxPooling2D(pool_size = (2,2), strides = (2, 2)))\n",
    "model.add(Dropout(0.3))  \n",
    "\n",
    "# first set of FC => RELU layers\n",
    "model.add(Flatten())\n",
    "model.add(Dense(500, activation='relu'))\n",
    "\n",
    "# softmax classififer\n",
    "model.add(Dense(2, activation='softmax'))\n",
    "\n",
    "model.summary()\n"
   ]
  },
  {
   "cell_type": "code",
   "execution_count": 9,
   "metadata": {},
   "outputs": [],
   "source": [
    "opt = keras.optimizers.Adam(learning_rate=0.03)\n",
    "model.compile(optimizer=opt,loss='categorical_crossentropy' , metrics=['accuracy'])\n",
    "\n",
    "# model.compile(loss = \"categorical_crossentropy\", optimizer = \"adam\",\n",
    "    # metrics = [\"accuracy\"])"
   ]
  },
  {
   "cell_type": "code",
   "execution_count": 10,
   "metadata": {},
   "outputs": [],
   "source": [
    "early_stopping = EarlyStopping(monitor='val_loss', mode='min', verbose=1, patience=50)\n"
   ]
  },
  {
   "cell_type": "code",
   "execution_count": 11,
   "metadata": {},
   "outputs": [
    {
     "name": "stdout",
     "output_type": "stream",
     "text": [
      "Epoch 1/100\n",
      "165/165 [==============================] - 11s 64ms/step - loss: 4.0962 - accuracy: 0.7174 - val_loss: 0.5706 - val_accuracy: 0.7601\n",
      "Epoch 2/100\n",
      "165/165 [==============================] - 11s 65ms/step - loss: 0.4642 - accuracy: 0.7784 - val_loss: 0.4160 - val_accuracy: 0.8257\n",
      "Epoch 3/100\n",
      "165/165 [==============================] - 11s 66ms/step - loss: 0.4334 - accuracy: 0.8039 - val_loss: 0.3998 - val_accuracy: 0.8451\n",
      "Epoch 4/100\n",
      "165/165 [==============================] - 11s 64ms/step - loss: 0.4146 - accuracy: 0.8138 - val_loss: 0.3852 - val_accuracy: 0.8485\n",
      "Epoch 5/100\n",
      "165/165 [==============================] - 11s 67ms/step - loss: 0.4164 - accuracy: 0.8130 - val_loss: 0.4765 - val_accuracy: 0.7878\n",
      "Epoch 6/100\n",
      "165/165 [==============================] - 11s 68ms/step - loss: 0.4086 - accuracy: 0.8206 - val_loss: 0.3444 - val_accuracy: 0.8694\n",
      "Epoch 7/100\n",
      "165/165 [==============================] - 11s 66ms/step - loss: 0.3694 - accuracy: 0.8441 - val_loss: 0.3075 - val_accuracy: 0.8797\n",
      "Epoch 8/100\n",
      "165/165 [==============================] - 11s 66ms/step - loss: 0.3611 - accuracy: 0.8495 - val_loss: 0.5700 - val_accuracy: 0.6986\n",
      "Epoch 9/100\n",
      "165/165 [==============================] - 11s 65ms/step - loss: 0.3395 - accuracy: 0.8611 - val_loss: 0.3604 - val_accuracy: 0.8383\n",
      "Epoch 10/100\n",
      "165/165 [==============================] - 11s 66ms/step - loss: 0.3458 - accuracy: 0.8573 - val_loss: 0.3318 - val_accuracy: 0.8569\n",
      "Epoch 11/100\n",
      "165/165 [==============================] - 11s 66ms/step - loss: 0.3186 - accuracy: 0.8700 - val_loss: 0.2778 - val_accuracy: 0.8945\n",
      "Epoch 12/100\n",
      "165/165 [==============================] - 11s 67ms/step - loss: 0.3077 - accuracy: 0.8748 - val_loss: 0.2780 - val_accuracy: 0.9013\n",
      "Epoch 13/100\n",
      "165/165 [==============================] - 11s 67ms/step - loss: 0.3052 - accuracy: 0.8750 - val_loss: 0.3146 - val_accuracy: 0.8861\n",
      "Epoch 14/100\n",
      "165/165 [==============================] - 11s 67ms/step - loss: 0.2893 - accuracy: 0.8850 - val_loss: 0.2679 - val_accuracy: 0.9002\n",
      "Epoch 15/100\n",
      "165/165 [==============================] - 11s 67ms/step - loss: 0.2969 - accuracy: 0.8809 - val_loss: 0.2601 - val_accuracy: 0.9017\n",
      "Epoch 16/100\n",
      "165/165 [==============================] - 11s 64ms/step - loss: 0.3010 - accuracy: 0.8803 - val_loss: 0.3005 - val_accuracy: 0.8922\n",
      "Epoch 17/100\n",
      "165/165 [==============================] - 11s 69ms/step - loss: 0.2785 - accuracy: 0.8877 - val_loss: 0.2650 - val_accuracy: 0.9066\n",
      "Epoch 18/100\n",
      "165/165 [==============================] - 12s 70ms/step - loss: 0.2846 - accuracy: 0.8860 - val_loss: 0.2771 - val_accuracy: 0.9085\n",
      "Epoch 19/100\n",
      "165/165 [==============================] - 11s 69ms/step - loss: 0.2875 - accuracy: 0.8871 - val_loss: 0.2662 - val_accuracy: 0.9002\n",
      "Epoch 20/100\n",
      "165/165 [==============================] - 11s 68ms/step - loss: 0.2870 - accuracy: 0.8876 - val_loss: 0.2964 - val_accuracy: 0.8926\n",
      "Epoch 21/100\n",
      "165/165 [==============================] - 11s 67ms/step - loss: 0.2919 - accuracy: 0.8862 - val_loss: 0.2633 - val_accuracy: 0.9089\n",
      "Epoch 22/100\n",
      "165/165 [==============================] - 11s 65ms/step - loss: 0.2808 - accuracy: 0.8899 - val_loss: 0.3024 - val_accuracy: 0.8880\n",
      "Epoch 23/100\n",
      "165/165 [==============================] - 11s 67ms/step - loss: 0.2980 - accuracy: 0.8865 - val_loss: 0.2697 - val_accuracy: 0.9032\n",
      "Epoch 24/100\n",
      "165/165 [==============================] - 11s 67ms/step - loss: 0.2828 - accuracy: 0.8898 - val_loss: 0.2618 - val_accuracy: 0.9062\n",
      "Epoch 25/100\n",
      "165/165 [==============================] - 11s 67ms/step - loss: 0.2939 - accuracy: 0.8854 - val_loss: 0.2876 - val_accuracy: 0.8850\n",
      "Epoch 26/100\n",
      "165/165 [==============================] - 11s 68ms/step - loss: 0.2783 - accuracy: 0.8920 - val_loss: 0.3163 - val_accuracy: 0.8607\n",
      "Epoch 27/100\n",
      "165/165 [==============================] - 11s 64ms/step - loss: 0.2716 - accuracy: 0.8920 - val_loss: 0.2765 - val_accuracy: 0.8983\n",
      "Epoch 28/100\n",
      "165/165 [==============================] - 11s 67ms/step - loss: 0.2650 - accuracy: 0.8982 - val_loss: 0.2433 - val_accuracy: 0.9112\n",
      "Epoch 29/100\n",
      "165/165 [==============================] - 11s 68ms/step - loss: 0.2715 - accuracy: 0.8930 - val_loss: 0.2527 - val_accuracy: 0.9043\n",
      "Epoch 30/100\n",
      "165/165 [==============================] - 11s 68ms/step - loss: 0.2683 - accuracy: 0.8955 - val_loss: 0.2641 - val_accuracy: 0.8986\n",
      "Epoch 31/100\n",
      "165/165 [==============================] - 11s 68ms/step - loss: 0.2534 - accuracy: 0.9043 - val_loss: 0.2409 - val_accuracy: 0.9093\n",
      "Epoch 32/100\n",
      "165/165 [==============================] - 11s 67ms/step - loss: 0.2766 - accuracy: 0.8958 - val_loss: 0.2711 - val_accuracy: 0.9036\n",
      "Epoch 33/100\n",
      "165/165 [==============================] - 11s 65ms/step - loss: 0.2692 - accuracy: 0.8955 - val_loss: 0.2909 - val_accuracy: 0.8975\n",
      "Epoch 34/100\n",
      "165/165 [==============================] - 11s 66ms/step - loss: 0.2794 - accuracy: 0.8922 - val_loss: 0.5909 - val_accuracy: 0.8755\n",
      "Epoch 35/100\n",
      "165/165 [==============================] - 11s 66ms/step - loss: 0.2600 - accuracy: 0.9000 - val_loss: 0.2410 - val_accuracy: 0.9127\n",
      "Epoch 36/100\n",
      "165/165 [==============================] - 11s 67ms/step - loss: 0.2640 - accuracy: 0.8994 - val_loss: 0.2965 - val_accuracy: 0.9070\n",
      "Epoch 37/100\n",
      "165/165 [==============================] - 11s 67ms/step - loss: 0.2645 - accuracy: 0.9004 - val_loss: 0.3277 - val_accuracy: 0.9077\n",
      "Epoch 38/100\n",
      "165/165 [==============================] - 11s 67ms/step - loss: 0.3663 - accuracy: 0.8712 - val_loss: 0.2850 - val_accuracy: 0.9089\n",
      "Epoch 39/100\n",
      "165/165 [==============================] - 11s 67ms/step - loss: 0.2693 - accuracy: 0.8990 - val_loss: 0.2457 - val_accuracy: 0.9077\n",
      "Epoch 40/100\n",
      "165/165 [==============================] - 11s 67ms/step - loss: 0.2751 - accuracy: 0.8941 - val_loss: 0.2640 - val_accuracy: 0.9032\n",
      "Epoch 41/100\n",
      "165/165 [==============================] - 11s 66ms/step - loss: 0.2439 - accuracy: 0.9058 - val_loss: 0.2534 - val_accuracy: 0.9169\n",
      "Epoch 42/100\n",
      "165/165 [==============================] - 11s 67ms/step - loss: 0.2502 - accuracy: 0.8990 - val_loss: 0.2466 - val_accuracy: 0.9108\n",
      "Epoch 43/100\n",
      "165/165 [==============================] - 11s 68ms/step - loss: 0.2552 - accuracy: 0.9004 - val_loss: 2.9216 - val_accuracy: 0.7251\n",
      "Epoch 44/100\n",
      "165/165 [==============================] - 11s 68ms/step - loss: 0.3223 - accuracy: 0.8800 - val_loss: 0.2938 - val_accuracy: 0.8899\n",
      "Epoch 45/100\n",
      "165/165 [==============================] - 11s 67ms/step - loss: 0.2683 - accuracy: 0.8983 - val_loss: 0.2809 - val_accuracy: 0.9093\n",
      "Epoch 46/100\n",
      "165/165 [==============================] - 11s 68ms/step - loss: 0.2638 - accuracy: 0.8994 - val_loss: 0.2348 - val_accuracy: 0.9123\n",
      "Epoch 47/100\n",
      "165/165 [==============================] - 11s 67ms/step - loss: 0.2916 - accuracy: 0.8899 - val_loss: 0.2502 - val_accuracy: 0.9142\n",
      "Epoch 48/100\n",
      "165/165 [==============================] - 11s 67ms/step - loss: 0.2953 - accuracy: 0.8915 - val_loss: 0.2650 - val_accuracy: 0.9115\n",
      "Epoch 49/100\n",
      "165/165 [==============================] - 11s 66ms/step - loss: 0.3254 - accuracy: 0.8856 - val_loss: 0.2660 - val_accuracy: 0.9051\n",
      "Epoch 50/100\n",
      "165/165 [==============================] - 11s 67ms/step - loss: 0.2966 - accuracy: 0.8920 - val_loss: 0.2426 - val_accuracy: 0.9153\n",
      "Epoch 51/100\n",
      "165/165 [==============================] - 11s 67ms/step - loss: 0.2511 - accuracy: 0.9074 - val_loss: 0.2646 - val_accuracy: 0.8990\n",
      "Epoch 52/100\n",
      "165/165 [==============================] - 11s 67ms/step - loss: 0.2493 - accuracy: 0.9029 - val_loss: 0.2792 - val_accuracy: 0.9043\n",
      "Epoch 53/100\n",
      "165/165 [==============================] - 11s 66ms/step - loss: 0.2455 - accuracy: 0.9057 - val_loss: 0.2374 - val_accuracy: 0.9165\n",
      "Epoch 54/100\n",
      "165/165 [==============================] - 11s 67ms/step - loss: 0.2447 - accuracy: 0.9065 - val_loss: 0.2277 - val_accuracy: 0.9172\n",
      "Epoch 55/100\n",
      "165/165 [==============================] - 11s 67ms/step - loss: 0.2317 - accuracy: 0.9109 - val_loss: 0.2284 - val_accuracy: 0.9172\n",
      "Epoch 56/100\n",
      "165/165 [==============================] - 11s 67ms/step - loss: 0.2568 - accuracy: 0.9025 - val_loss: 0.2408 - val_accuracy: 0.9127\n",
      "Epoch 57/100\n",
      "165/165 [==============================] - 11s 67ms/step - loss: 0.3905 - accuracy: 0.8333 - val_loss: 0.6105 - val_accuracy: 0.7187\n",
      "Epoch 58/100\n",
      "165/165 [==============================] - 11s 67ms/step - loss: 0.4926 - accuracy: 0.7775 - val_loss: 0.7593 - val_accuracy: 0.7107\n",
      "Epoch 59/100\n",
      "165/165 [==============================] - 11s 67ms/step - loss: 0.6035 - accuracy: 0.7196 - val_loss: 0.5939 - val_accuracy: 0.7198\n",
      "Epoch 60/100\n",
      "165/165 [==============================] - 11s 68ms/step - loss: 0.5935 - accuracy: 0.7197 - val_loss: 0.5932 - val_accuracy: 0.7198\n",
      "Epoch 61/100\n",
      "165/165 [==============================] - 11s 67ms/step - loss: 0.5939 - accuracy: 0.7197 - val_loss: 0.5961 - val_accuracy: 0.7198\n",
      "Epoch 62/100\n",
      "165/165 [==============================] - 11s 67ms/step - loss: 0.6640 - accuracy: 0.7167 - val_loss: 0.5934 - val_accuracy: 0.7198\n",
      "Epoch 63/100\n",
      "165/165 [==============================] - 11s 67ms/step - loss: 0.5943 - accuracy: 0.7197 - val_loss: 0.5936 - val_accuracy: 0.7198\n",
      "Epoch 64/100\n",
      "165/165 [==============================] - 11s 67ms/step - loss: 0.5937 - accuracy: 0.7197 - val_loss: 0.5939 - val_accuracy: 0.7198\n",
      "Epoch 65/100\n",
      "165/165 [==============================] - 11s 67ms/step - loss: 0.5941 - accuracy: 0.7197 - val_loss: 0.5937 - val_accuracy: 0.7198\n",
      "Epoch 66/100\n",
      "165/165 [==============================] - 11s 66ms/step - loss: 0.5943 - accuracy: 0.7197 - val_loss: 0.5937 - val_accuracy: 0.7198\n",
      "Epoch 67/100\n",
      "165/165 [==============================] - 11s 66ms/step - loss: 0.5940 - accuracy: 0.7197 - val_loss: 0.5932 - val_accuracy: 0.7198\n",
      "Epoch 68/100\n",
      "165/165 [==============================] - 11s 66ms/step - loss: 0.5941 - accuracy: 0.7197 - val_loss: 0.5931 - val_accuracy: 0.7198\n",
      "Epoch 69/100\n",
      "165/165 [==============================] - 11s 67ms/step - loss: 0.5938 - accuracy: 0.7197 - val_loss: 0.5949 - val_accuracy: 0.7198\n",
      "Epoch 70/100\n",
      "165/165 [==============================] - 11s 67ms/step - loss: 0.5938 - accuracy: 0.7197 - val_loss: 0.5932 - val_accuracy: 0.7198\n",
      "Epoch 71/100\n",
      "165/165 [==============================] - 11s 67ms/step - loss: 0.5939 - accuracy: 0.7197 - val_loss: 0.5931 - val_accuracy: 0.7198\n",
      "Epoch 72/100\n",
      "165/165 [==============================] - 11s 67ms/step - loss: 0.5944 - accuracy: 0.7197 - val_loss: 0.5970 - val_accuracy: 0.7198\n",
      "Epoch 73/100\n",
      "165/165 [==============================] - 11s 67ms/step - loss: 0.5942 - accuracy: 0.7197 - val_loss: 0.5936 - val_accuracy: 0.7198\n",
      "Epoch 74/100\n",
      "165/165 [==============================] - 11s 66ms/step - loss: 0.5937 - accuracy: 0.7197 - val_loss: 0.5944 - val_accuracy: 0.7198\n",
      "Epoch 75/100\n",
      "165/165 [==============================] - 11s 68ms/step - loss: 0.5934 - accuracy: 0.7197 - val_loss: 0.5934 - val_accuracy: 0.7198\n",
      "Epoch 76/100\n",
      "165/165 [==============================] - 11s 67ms/step - loss: 0.5936 - accuracy: 0.7197 - val_loss: 0.5933 - val_accuracy: 0.7198\n",
      "Epoch 77/100\n",
      "165/165 [==============================] - 11s 66ms/step - loss: 0.5940 - accuracy: 0.7197 - val_loss: 0.5932 - val_accuracy: 0.7198\n",
      "Epoch 78/100\n",
      "165/165 [==============================] - 11s 65ms/step - loss: 0.5940 - accuracy: 0.7197 - val_loss: 0.5932 - val_accuracy: 0.7198\n",
      "Epoch 79/100\n",
      "165/165 [==============================] - 11s 67ms/step - loss: 0.5938 - accuracy: 0.7197 - val_loss: 0.5935 - val_accuracy: 0.7198\n",
      "Epoch 80/100\n",
      "165/165 [==============================] - 11s 66ms/step - loss: 0.5948 - accuracy: 0.7197 - val_loss: 0.5932 - val_accuracy: 0.7198\n",
      "Epoch 81/100\n",
      "165/165 [==============================] - 11s 67ms/step - loss: 0.5943 - accuracy: 0.7197 - val_loss: 0.5935 - val_accuracy: 0.7198\n",
      "Epoch 82/100\n",
      "165/165 [==============================] - 12s 70ms/step - loss: 0.5939 - accuracy: 0.7197 - val_loss: 0.5935 - val_accuracy: 0.7198\n",
      "Epoch 83/100\n",
      "165/165 [==============================] - 11s 69ms/step - loss: 0.5943 - accuracy: 0.7197 - val_loss: 0.5932 - val_accuracy: 0.7198\n",
      "Epoch 84/100\n",
      "165/165 [==============================] - 11s 66ms/step - loss: 0.5943 - accuracy: 0.7197 - val_loss: 0.5933 - val_accuracy: 0.7198\n",
      "Epoch 85/100\n",
      "165/165 [==============================] - 11s 69ms/step - loss: 0.5939 - accuracy: 0.7197 - val_loss: 0.5931 - val_accuracy: 0.7198\n",
      "Epoch 86/100\n",
      "165/165 [==============================] - 11s 69ms/step - loss: 0.5938 - accuracy: 0.7197 - val_loss: 0.5952 - val_accuracy: 0.7198\n",
      "Epoch 87/100\n",
      "165/165 [==============================] - 11s 69ms/step - loss: 0.5938 - accuracy: 0.7197 - val_loss: 0.5963 - val_accuracy: 0.7198\n",
      "Epoch 88/100\n",
      "165/165 [==============================] - 11s 68ms/step - loss: 0.5946 - accuracy: 0.7197 - val_loss: 0.5931 - val_accuracy: 0.7198\n",
      "Epoch 89/100\n",
      "165/165 [==============================] - 11s 68ms/step - loss: 0.5938 - accuracy: 0.7197 - val_loss: 0.5937 - val_accuracy: 0.7198\n",
      "Epoch 90/100\n",
      "165/165 [==============================] - 11s 67ms/step - loss: 0.5954 - accuracy: 0.7197 - val_loss: 0.5963 - val_accuracy: 0.7198\n",
      "Epoch 91/100\n",
      "165/165 [==============================] - 12s 70ms/step - loss: 0.5940 - accuracy: 0.7197 - val_loss: 0.5966 - val_accuracy: 0.7198\n",
      "Epoch 92/100\n",
      "165/165 [==============================] - 11s 69ms/step - loss: 0.5942 - accuracy: 0.7197 - val_loss: 0.5934 - val_accuracy: 0.7198\n",
      "Epoch 93/100\n",
      "165/165 [==============================] - 11s 68ms/step - loss: 0.5936 - accuracy: 0.7197 - val_loss: 0.5956 - val_accuracy: 0.7198\n",
      "Epoch 94/100\n",
      "165/165 [==============================] - 11s 66ms/step - loss: 0.5938 - accuracy: 0.7197 - val_loss: 0.5949 - val_accuracy: 0.7198\n",
      "Epoch 95/100\n",
      "165/165 [==============================] - 11s 68ms/step - loss: 0.5942 - accuracy: 0.7197 - val_loss: 0.5931 - val_accuracy: 0.7198\n",
      "Epoch 96/100\n",
      "165/165 [==============================] - 11s 65ms/step - loss: 0.5936 - accuracy: 0.7197 - val_loss: 0.5941 - val_accuracy: 0.7198\n",
      "Epoch 97/100\n",
      "165/165 [==============================] - 11s 66ms/step - loss: 0.5941 - accuracy: 0.7197 - val_loss: 0.5939 - val_accuracy: 0.7198\n",
      "Epoch 98/100\n",
      "165/165 [==============================] - 11s 69ms/step - loss: 0.5940 - accuracy: 0.7197 - val_loss: 0.5935 - val_accuracy: 0.7198\n",
      "Epoch 99/100\n",
      "165/165 [==============================] - 12s 74ms/step - loss: 0.5939 - accuracy: 0.7197 - val_loss: 0.5932 - val_accuracy: 0.7198\n",
      "Epoch 100/100\n",
      "165/165 [==============================] - 12s 73ms/step - loss: 0.5941 - accuracy: 0.7197 - val_loss: 0.5935 - val_accuracy: 0.7198\n"
     ]
    }
   ],
   "source": [
    "mc = ModelCheckpoint('best_model2.h5', monitor='val_loss', mode='min', save_best_only=True)\n",
    "history = model.fit(trainX, trainY, validation_data = (testX, testY),\n",
    "    batch_size = 64, epochs = 100, callbacks=[early_stopping, mc], verbose = 1)"
   ]
  },
  {
   "cell_type": "code",
   "execution_count": 32,
   "metadata": {},
   "outputs": [],
   "source": [
    "# save the model to disk\n",
    "model.save('model/model_cnn_lenet_early_stop4.h5')\n"
   ]
  },
  {
   "cell_type": "code",
   "execution_count": 33,
   "metadata": {},
   "outputs": [],
   "source": [
    "loadModel = load_model('model/model_cnn_lenet_early_stop4.h5')"
   ]
  },
  {
   "cell_type": "code",
   "execution_count": 12,
   "metadata": {},
   "outputs": [
    {
     "data": {
      "image/png": "[encoded data removed]",
      "text/plain": [
       "<Figure size 432x288 with 1 Axes>"
      ]
     },
     "metadata": {
      "needs_background": "light"
     },
     "output_type": "display_data"
    },
    {
     "data": {
      "image/png": "[encoded data removed]",
      "text/plain": [
       "<Figure size 432x288 with 1 Axes>"
      ]
     },
     "metadata": {
      "needs_background": "light"
     },
     "output_type": "display_data"
    }
   ],
   "source": [
    "# summarize history for accuracy\n",
    "plt.plot(history.history['accuracy'])\n",
    "plt.plot(history.history['val_accuracy'])\n",
    "plt.title('model accuracy')\n",
    "plt.ylabel('accuracy')\n",
    "plt.xlabel('epoch')\n",
    "plt.legend(['train', 'test'], loc='upper left')\n",
    "plt.show()\n",
    "# summarize history for loss\n",
    "plt.plot(history.history['loss'])\n",
    "plt.plot(history.history['val_loss'])\n",
    "plt.title('model loss')\n",
    "plt.ylabel('loss')\n",
    "plt.xlabel('epoch')\n",
    "plt.legend(['train', 'test'], loc='upper left')\n",
    "plt.show()"
   ]
  },
  {
   "cell_type": "code",
   "execution_count": null,
   "metadata": {},
   "outputs": [],
   "source": []
  },
  {
   "cell_type": "code",
   "execution_count": null,
   "metadata": {},
   "outputs": [],
   "source": []
  }
 ],
 "metadata": {
  "kernelspec": {
   "display_name": "Python 3.7.11 ('Deep_Learning')",
   "language": "python",
   "name": "python3"
  },
  "language_info": {
   "codemirror_mode": {
    "name": "ipython",
    "version": 3
   },
   "file_extension": ".py",
   "mimetype": "text/x-python",
   "name": "python",
   "nbconvert_exporter": "python",
   "pygments_lexer": "ipython3",
   "version": "3.7.11"
  },
  "orig_nbformat": 4,
  "vscode": {
   "interpreter": {
    "hash": "69b921415ac254e7930c9839f1f531b85e95dba2c71a172af51a8fad4cca6050"
   }
  }
 },
 "nbformat": 4,
 "nbformat_minor": 2
}
